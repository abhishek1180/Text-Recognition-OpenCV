{
 "cells": [
  {
   "cell_type": "code",
   "execution_count": 1,
   "metadata": {},
   "outputs": [],
   "source": [
    "import matplotlib.pyplot as plt\n",
    "plt.style.use('ggplot')\n",
    "%matplotlib inline"
   ]
  },
  {
   "cell_type": "code",
   "execution_count": 2,
   "metadata": {
    "scrolled": true
   },
   "outputs": [
    {
     "data": {
      "text/plain": [
       "'\\nThe Image  class is required so that we can load our input image from disk in \\nPIL format, a requirement when using pytesseract.\\n'"
      ]
     },
     "execution_count": 2,
     "metadata": {},
     "output_type": "execute_result"
    }
   ],
   "source": [
    "from PIL import Image\n",
    "import pytesseract\n",
    "import argparse\n",
    "import cv2\n",
    "import os\n",
    "import sys\n",
    "\n",
    "'''\n",
    "The Image  class is required so that we can load our input image from disk in \n",
    "PIL format, a requirement when using pytesseract.\n",
    "'''"
   ]
  },
  {
   "cell_type": "markdown",
   "metadata": {},
   "source": [
    "### load the image, binarize it, and write it to disk."
   ]
  },
  {
   "cell_type": "raw",
   "metadata": {},
   "source": [
    "Depending on the pre-processing method specified by our command line argument, we will either threshold or blur the image. \n",
    "\n",
    "set threshold using both cv2.THRESH_BINARY and cv2.THRESH_OTSU  flags. Thresholding method can be useful to read dark text that is overlaid upon gray shapes.\n"
   ]
  },
  {
   "cell_type": "code",
   "execution_count": 3,
   "metadata": {},
   "outputs": [
    {
     "data": {
      "text/plain": [
       "True"
      ]
     },
     "execution_count": 3,
     "metadata": {},
     "output_type": "execute_result"
    }
   ],
   "source": [
    "# construct the argument parse and parse the arguments\n",
    "'''\n",
    "ap = argparse.ArgumentParser()\n",
    "ap.add_argument(\"-i\", \"--image\", required=True, help=\"path to input image to be OCR'd\")\n",
    "# --image : The path to the image we’re sending through the OCR system.\n",
    "ap.add_argument(\"-p\", \"--preprocess\", type=str, default=\"thresh\", help=\"type of preprocessing to be done\")\n",
    "# --preprocess : The preprocessing method. This switch is optional and can accept two values: thresh  (threshold) or blur .\n",
    "args = vars(ap.parse_args())'''\n",
    "# EasyDict allows to access dict values as attributes (works recursively).\n",
    "import easydict\n",
    "args=easydict.EasyDict({\n",
    "    'image':'./Images/textimage4.jpg',\n",
    "    'preprocess':'thres'\n",
    "})\n",
    "\n",
    "# load the image\n",
    "im1=cv2.imread(args['image'])\n",
    "gray=cv2.cvtColor(im1,cv2.COLOR_RGB2GRAY)\n",
    "# We perform a threshold in order to segment the foreground from the background. \n",
    "if args['preprocess']=='thres':\n",
    "    # gray=cv2.threshold(gray,5,255,cv2.THRESH_BINARY|cv2.THRESH_OTSU)[1]\n",
    "    gray=cv2.adaptiveThreshold(gray,255,cv2.ADAPTIVE_THRESH_GAUSSIAN_C, cv2.THRESH_BINARY,45,30)\n",
    "elif args['preprocess']=='blur':\n",
    "    # A median blur can help reduce salt and pepper noise, again making it easier for Tesseract to correctly OCR the image.\n",
    "    gray=cv2.medianBlur(gray,1)\n",
    "# After pre-processing the image, we use os.getpid  to derive a temporary image filename based on the process ID of our Python script    \n",
    "filename='{}.png'.format(os.getpid())\n",
    "# Before using pytesseract for OCR is to write the pre-processed image, gray, to disk saving it with the filename\n",
    "cv2.imwrite(filename,gray)"
   ]
  },
  {
   "cell_type": "markdown",
   "metadata": {},
   "source": [
    "#### Apply OCR to our image using the Tesseract Python bindings\n"
   ]
  },
  {
   "cell_type": "code",
   "execution_count": 4,
   "metadata": {},
   "outputs": [
    {
     "name": "stdout",
     "output_type": "stream",
     "text": [
      "‘)*:1n??m Iézﬁvn\"\n",
      "\\‘x,.,/' STATE BANK OF INDIA\n",
      "\n",
      "NON-EMPLOYEE IDENTITY CARD\n",
      "\n",
      "_.\\'Bl lI()\\Ili L()A.\\‘ (.0l NSELOR...\n",
      "u \\w\\\\u I nmnn um\n",
      "\n",
      " \n",
      "\n",
      "legion] Oﬂice : RBO-S\n",
      "\n",
      "Valid till 1 31/08/2017\n",
      "\n",
      "NAME : K MADHU SUDHAN\n",
      "\n",
      "HLC ID No. : HTD02669\n",
      "\n",
      "Mobile No. : 9963237188\n",
      "\n",
      "‘ Emergency Conant: ’\n",
      "\n",
      "Email :mskolluru63@gm 'l.mm\n",
      "\n",
      "!  :0+u\n"
     ]
    },
    {
     "data": {
      "text/plain": [
       "<matplotlib.image.AxesImage at 0x5296ad3188>"
      ]
     },
     "execution_count": 4,
     "metadata": {},
     "output_type": "execute_result"
    },
    {
     "data": {
      "image/png": "[encoded data removed]",
      "text/plain": [
       "<Figure size 432x288 with 1 Axes>"
      ]
     },
     "metadata": {
      "needs_background": "light"
     },
     "output_type": "display_data"
    }
   ],
   "source": [
    "# load the image as a PIL/Pillow image, apply OCR, and then delete the temporary file\n",
    "pytesseract.pytesseract.tesseract_cmd=r'C:\\Program Files (x86)\\Tesseract-OCR\\tesseract.exe'\n",
    "text=pytesseract.image_to_string(Image.open(filename))\n",
    "os.remove(filename)    # delete the temporary file.\n",
    "print(text)\n",
    "plt.grid(False)\n",
    "plt.imshow(gray)\n"
   ]
  },
  {
   "cell_type": "markdown",
   "metadata": {},
   "source": [
    "## 2nd method"
   ]
  },
  {
   "cell_type": "raw",
   "metadata": {},
   "source": [
    "OCR language: The language in our basic examples is set to English (eng). On the command line and pytesseract, it is specified using the -l option.\n",
    "\n",
    "OCR Engine Mode (oem): Tesseract 4 has two OCR engines — \n",
    "1) Legacy Tesseract engine \n",
    "2) LSTM engine. \n",
    "There are four modes of operation chosen using the --oem option.\n",
    "  0    Legacy engine only.\n",
    "  1    Neural nets LSTM engine only.\n",
    "  2    Legacy + LSTM engines.\n",
    "  3    Default, based on what is available.\n",
    "  \n",
    "Page Segmentation Mode (psm): PSM can be very useful when you have additional information about the structure of the text. The psm = 3 (i.e. PSM_AUTO)."
   ]
  },
  {
   "cell_type": "code",
   "execution_count": 5,
   "metadata": {},
   "outputs": [
    {
     "name": "stdout",
     "output_type": "stream",
     "text": [
      "mﬁwtitihi\n",
      "\n",
      "STATE BANK OF INDIA\n",
      "\n",
      "NON- E ARD\n",
      "\n",
      "~\\H| HUVIF L(M\\ ('()l '\\.\\F,L()R _.\n",
      "1} \\IP\\\\H 1 H)\\\\l|H xnn\n",
      "\n",
      " \n",
      "\n",
      " \n",
      "\n",
      "lgtnnloﬂu :RBO-5\n",
      "\n",
      "Valid lﬂl : MINI2017\n",
      "\n",
      "NAME : K MADHU SUDIIAN\n",
      "\n",
      "HLC ID No. : EYD02669\n",
      "\n",
      "Mobile No. : 9963237158\n",
      "\n",
      "’ Enetgelcy Coma :\n",
      "Email : nskotu|ru6JOgI Leon\n",
      "\n",
      ":0+v¢\n",
      "\n",
      "   \n",
      "  \n",
      "   \n",
      " \n",
      "\n",
      "\\4‘\\|‘I|I \\I (In\n",
      "\n",
      "   \n",
      "\n",
      "~.:n.«.n. m .w« H--mu\n"
     ]
    }
   ],
   "source": [
    "import cv2\n",
    "import sys\n",
    "\n",
    "import pytesseract\n",
    "\n",
    "if __name__ == '__main__':\n",
    "    if len(sys.argv) < 2:\n",
    "        print('Usage: python ocr_simple.py image.jpg')\n",
    "        sys.exit(1)\n",
    "    imPath = sys.argv[1]\n",
    "    config = ('-l eng --oem 3 --psm 3')\n",
    "im = cv2.imread('./Images/textimage4.jpg', cv2.IMREAD_COLOR)\n",
    "text = pytesseract.image_to_string(im, config=config)\n",
    "print(text)"
   ]
  },
  {
   "cell_type": "markdown",
   "metadata": {},
   "source": [
    "Tesseract does not do a very good job with dark boundaries and often assumes it to be text. However, if we help Tesseract a bit by cropping out the text region, it gives perfect output."
   ]
  }
 ],
 "metadata": {
  "kernelspec": {
   "display_name": "Python 3",
   "language": "python",
   "name": "python3"
  },
  "language_info": {
   "codemirror_mode": {
    "name": "ipython",
    "version": 3
   },
   "file_extension": ".py",
   "mimetype": "text/x-python",
   "name": "python",
   "nbconvert_exporter": "python",
   "pygments_lexer": "ipython3",
   "version": "3.7.5"
  }
 },
 "nbformat": 4,
 "nbformat_minor": 4
}
